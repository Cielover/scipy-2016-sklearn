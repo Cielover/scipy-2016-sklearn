{
 "cells": [
  {
   "cell_type": "code",
   "execution_count": null,
   "metadata": {
    "collapsed": false,
    "jupyter": {
     "outputs_hidden": false
    }
   },
   "outputs": [],
   "source": [
    "%load_ext watermark\n",
    "%watermark  -d -u -a 'Andreas Mueller, Kyle Kastner, Sebastian Raschka' -v -p numpy,scipy,matplotlib"
   ]
  },
  {
   "cell_type": "markdown",
   "metadata": {},
   "source": [
    "The use of watermark (above) is optional, and we use it to keep track of the changes while developing the tutorial material. (You can install this IPython extension via \"pip install watermark\". For more information, please see: https://github.com/rasbt/watermark)."
   ]
  },
  {
   "cell_type": "markdown",
   "metadata": {},
   "source": [
    "# 数据的表示和可视化"
   ]
  },
  {
   "cell_type": "markdown",
   "metadata": {},
   "source": [
    "机器学习，是模型对数据的拟合(fit)；所以，我们将从讨论如何表示数据，方便计算机\"理解\"开始。紧接着，在之前介绍的matplotlib例子的基础上，展示一些如何可视化数据的例子。"
   ]
  },
  {
   "cell_type": "markdown",
   "metadata": {},
   "source": [
    "## scikit-learn中的数据"
   ]
  },
  {
   "cell_type": "markdown",
   "metadata": {},
   "source": [
    "scikit-learn里用的数据, 除了极少数的例外，都假定存储格式为**二维数组(two-dimensional array)**, 形状是`[n_samples, n_features]`. 很多算法也接受相同形状的``scipy.sparse``矩阵."
   ]
  },
  {
   "cell_type": "markdown",
   "metadata": {},
   "source": [
    "- **n_samples:**   样本数:每个样本，都是要处理(如分类)的实例。样本可以是文档、图片、声音、视频、天文目标，数据库或CSV文件中的一行，或任何你能用一组固定数值型的特质描述的东西。\n",
    "- **n_features:**  特征数，可以用来定量描述每个实例的特征或特质的数量。特征通常是实数的，但某些情况下可能是布尔值或离散值。\n",
    "\n",
    "特征数必须事先确定。可能是非常高维的(如上百万个特征)，对于给定样本，它们中的大多数是“零”。这种情况下`scipy.sparse`矩阵可能很有用，会比NumPy数组内存使用上更有效率。\n",
    "\n",
    "正如之前提到过的，我们将样本(数据点或实例)表示为数据数组中的行，将相应的特征“维(dimensions)”存储为列。"
   ]
  },
  {
   "cell_type": "markdown",
   "metadata": {},
   "source": [
    "### 简单例子: 鸢尾花(Iris)数据集"
   ]
  },
  {
   "cell_type": "markdown",
   "metadata": {},
   "source": [
    "作为简单数据集的例子，来看看scikit-learn内置的鸢尾花数据。这些数据包括三种不同鸢尾花的测量值。在这个特定的数据集中有三种不同的鸢尾花，如下图所示:"
   ]
  },
  {
   "cell_type": "markdown",
   "metadata": {},
   "source": [
    "<img src=\"https://ss.csdn.net/p?https://mmbiz.qpic.cn/mmbiz_jpg/tRrxSF9IUIN33OpDRiajIM5VYYwE4HNKkrPD4yuMhuD8MKBNkAxzcAG5vL0F5jrmn14bC4aTuxAT18BIwJcx2Xg/640?wx_fmt=jpeg\" width=\"100%\">"
   ]
  },
  {
   "cell_type": "markdown",
   "metadata": {},
   "source": [
    "### 请问:"
   ]
  },
  {
   "cell_type": "markdown",
   "metadata": {},
   "source": [
    "**假设我们对新观察的分类感兴趣；想预测未知的花是山鸢尾花(Iris-Setosa)、变色鸢尾花(Iris-Versicolor)，还是维吉尼亚鸢尾花(Iris-Virginica)。基于我们在之前讨论的内容，该如何构建这样一个数据集？***\n",
    "\n",
    "记住: 我们需要的是一个形状为`[n_samples x n_features]`的二维数组.\n",
    "\n",
    "- `n_samples`指的是什么?\n",
    "\n",
    "- `n_features`指的又是什么?\n",
    "\n",
    "记住，每个样本特征数量肯定是**固定**的, 每个样本的特征数*j*必须是相似的数值。"
   ]
  },
  {
   "cell_type": "markdown",
   "metadata": {},
   "source": [
    "### 用Scikit-learn加载Iris数据"
   ]
  },
  {
   "cell_type": "markdown",
   "metadata": {},
   "source": [
    "为方便继续开展机器学习算法实验，建议收藏[UCI machine learning repository](http://archive.ics.uci.edu/ml/)，这个知识库包含许多常用数据集，对于机器学习算法的基准测试非常有用，是深受机器学习实践者和研究人员欢迎的好资源。很方便的一点是，其中一些数据集已经包含在scikit-learn中，可以跳过下载、读取、解析、清理这些文本/CSV文件的繁琐步骤。scikit-learn可用数据集的列表，可以在这里查看:http://scikit-learn.org/stable/datasets/#toy-datasets.\n",
    "\n",
    "例如，scikit-learn有一套关于鸢尾花的非常简单的数据，包括以下内容:\n",
    "\n",
    "- Iris数据集包含的特征:\n",
    "  1. 花萼长度(sepal length) in cm\n",
    "  2. 花萼宽度(sepal width) in cm\n",
    "  3. 花瓣长度(petal length) in cm\n",
    "  4. 花瓣宽度(petal width) in cm\n",
    "\n",
    "\n",
    "- 要预测的目标类:\n",
    "  1. 山鸢尾花(Iris Setosa)\n",
    "  2. 变色鸢尾花(Iris Versicolor)\n",
    "  3. 维吉尼亚鸢尾花(Iris Virginica)"
   ]
  },
  {
   "cell_type": "markdown",
   "metadata": {},
   "source": [
    "<img src=\"figures/petal_sepal.jpg\" alt=\"Sepal\" style=\"width: 50%;\"/>"
   ]
  },
  {
   "cell_type": "markdown",
   "metadata": {},
   "source": [
    "``scikit-learn``内置了iris CSV文件副本，以及将数据加载成numpy数组的辅助函数:"
   ]
  },
  {
   "cell_type": "code",
   "execution_count": null,
   "metadata": {
    "collapsed": false,
    "jupyter": {
     "outputs_hidden": false
    }
   },
   "outputs": [],
   "source": [
    "from sklearn.datasets import load_iris\n",
    "iris = load_iris()"
   ]
  },
  {
   "cell_type": "markdown",
   "metadata": {},
   "source": [
    "加载结果iris是一个``Bunch``对象:可以用``keys()``方法看看有哪些东西可用:"
   ]
  },
  {
   "cell_type": "code",
   "execution_count": null,
   "metadata": {
    "collapsed": false,
    "jupyter": {
     "outputs_hidden": false
    }
   },
   "outputs": [],
   "source": [
    "iris.keys()"
   ]
  },
  {
   "cell_type": "markdown",
   "metadata": {},
   "source": [
    "每朵花样本的特征，都存在数据集的``data``属性中:"
   ]
  },
  {
   "cell_type": "code",
   "execution_count": null,
   "metadata": {
    "collapsed": false,
    "jupyter": {
     "outputs_hidden": false
    }
   },
   "outputs": [],
   "source": [
    "n_samples, n_features = iris.data.shape\n",
    "print('Number of samples:', n_samples)\n",
    "print('Number of features:', n_features)\n",
    "# the sepal length, sepal width, petal length and petal width of the first sample (first flower)\n",
    "print(iris.data[0])"
   ]
  },
  {
   "cell_type": "markdown",
   "metadata": {},
   "source": [
    "每朵花样本的类别信息，存在数据集的``target``属性中:"
   ]
  },
  {
   "cell_type": "code",
   "execution_count": null,
   "metadata": {
    "collapsed": false,
    "jupyter": {
     "outputs_hidden": false
    }
   },
   "outputs": [],
   "source": [
    "print(iris.data.shape)\n",
    "print(iris.target.shape)"
   ]
  },
  {
   "cell_type": "code",
   "execution_count": null,
   "metadata": {
    "collapsed": false,
    "jupyter": {
     "outputs_hidden": false
    }
   },
   "outputs": [],
   "source": [
    "print(iris.target)"
   ]
  },
  {
   "cell_type": "code",
   "execution_count": null,
   "metadata": {
    "collapsed": false,
    "jupyter": {
     "outputs_hidden": false
    }
   },
   "outputs": [],
   "source": [
    "import numpy as np\n",
    "\n",
    "np.bincount(iris.target)"
   ]
  },
  {
   "cell_type": "markdown",
   "metadata": {},
   "source": [
    "用NumPy的bincount函数，可以看到在这个数据集中各类是均匀分布的——每个品种有50朵花样本，其中\n",
    "\n",
    "- class 0: 山鸢尾花(Iris-Setosa)\n",
    "- class 1: 变色鸢尾花(Iris-Versicolor)\n",
    "- class 2: 维吉尼亚鸢尾花(Iris-Virginica)"
   ]
  },
  {
   "cell_type": "markdown",
   "metadata": {},
   "source": [
    "这些类名存储在最后一个属性中，即``target_names``:"
   ]
  },
  {
   "cell_type": "code",
   "execution_count": null,
   "metadata": {
    "collapsed": false,
    "jupyter": {
     "outputs_hidden": false
    }
   },
   "outputs": [],
   "source": [
    "print(iris.target_names)"
   ]
  },
  {
   "cell_type": "markdown",
   "metadata": {},
   "source": [
    "数据是四维的，但我们可以用简单的直方图或散点图，一次可视化其中的一两维。\n",
    "还是从设置matplotlib inline模式开始："
   ]
  },
  {
   "cell_type": "code",
   "execution_count": null,
   "metadata": {
    "collapsed": false,
    "jupyter": {
     "outputs_hidden": false
    }
   },
   "outputs": [],
   "source": [
    "%matplotlib inline\n",
    "import matplotlib.pyplot as plt"
   ]
  },
  {
   "cell_type": "code",
   "execution_count": null,
   "metadata": {
    "collapsed": false,
    "jupyter": {
     "outputs_hidden": false
    }
   },
   "outputs": [],
   "source": [
    "x_index = 2\n",
    "colors = ['blue', 'red', 'green']\n",
    "\n",
    "for label, color in zip(range(len(iris.target_names)), colors):\n",
    "    plt.hist(iris.data[iris.target==label, x_index], \n",
    "             label=iris.target_names[label],\n",
    "             color=color)\n",
    "\n",
    "plt.xlabel(iris.feature_names[x_index])\n",
    "plt.legend(loc='upper right')\n",
    "plt.show()"
   ]
  },
  {
   "cell_type": "code",
   "execution_count": null,
   "metadata": {
    "collapsed": false,
    "jupyter": {
     "outputs_hidden": false
    }
   },
   "outputs": [],
   "source": [
    "x_index = 3\n",
    "y_index = 0\n",
    "\n",
    "colors = ['blue', 'red', 'green']\n",
    "\n",
    "for label, color in zip(range(len(iris.target_names)), colors):\n",
    "    plt.scatter(iris.data[iris.target==label, x_index], \n",
    "                iris.data[iris.target==label, y_index],\n",
    "                label=iris.target_names[label],\n",
    "                c=color)\n",
    "\n",
    "plt.xlabel(iris.feature_names[x_index])\n",
    "plt.ylabel(iris.feature_names[y_index])\n",
    "plt.legend(loc='upper left')\n",
    "plt.show()"
   ]
  },
  {
   "cell_type": "markdown",
   "metadata": {},
   "source": [
    "### 练习:"
   ]
  },
  {
   "cell_type": "markdown",
   "metadata": {},
   "source": [
    "**试一试** `x_index` **和** `y_index` **两个参数的其他组合，最大限度地将三个类分开.**\n",
    "\n",
    "该练习可以看做是 **降维(dimensionality reduction)**的预习, 稍后我们会具体讲解."
   ]
  },
  {
   "cell_type": "markdown",
   "metadata": {},
   "source": [
    "### 延伸: 散点图矩阵\n",
    "\n",
    "分析师一般不会一个图一个图的看，而是常用一种叫做**散点图矩阵**的工具。\n",
    "\n",
    "散点图矩阵显示数据集中所有特征之间的散点图，用直方图则显示每个特征各自的分布。"
   ]
  },
  {
   "cell_type": "code",
   "execution_count": null,
   "metadata": {
    "collapsed": false,
    "jupyter": {
     "outputs_hidden": false
    }
   },
   "outputs": [],
   "source": [
    "import pandas as pd\n",
    "    \n",
    "iris_df = pd.DataFrame(iris.data, columns=iris.feature_names)\n",
    "pd.plotting.scatter_matrix(iris_df, figsize=(8, 8));"
   ]
  },
  {
   "cell_type": "markdown",
   "metadata": {},
   "source": [
    "## 其他可用数据"
   ]
  },
  {
   "cell_type": "markdown",
   "metadata": {},
   "source": [
    "[Scikit-learn提供了大量用于测试学习算法的数据集](http://scikit-learn.org/stable/datasets/#dataset-loading-utilities).\n",
    "\n",
    "分三种类型:\n",
    "\n",
    "- **打包数据(Packaged Data):** 这些小数据集随scikit-learn一起打包安装，可以用``sklearn.datasets.load_*``进行加载\n",
    "- **可下载数据(Downloadable Data):** 这些较大的数据集可以下载，scikit-learn带有简化这一过程的工具：``sklearn.datasets.fetch_*``\n",
    "- **生成数据(Generated Data:** 有些数据集是用基于随机种子模型生成的，具体参见：``sklearn.datasets.make_*``\n",
    "\n",
    "可以用IPython的Tab键自动补全来探索可用的数据集加载器、提取器和生成器。\n",
    "\n",
    "输入\n",
    "\n",
    "    datasets.load_<TAB>\n",
    "\n",
    "或\n",
    "\n",
    "    datasets.fetch_<TAB>\n",
    "\n",
    "或\n",
    "\n",
    "    datasets.make_<TAB>\n",
    "\n",
    "查看可用的函数列表。"
   ]
  },
  {
   "cell_type": "code",
   "execution_count": null,
   "metadata": {
    "collapsed": false,
    "jupyter": {
     "outputs_hidden": false
    }
   },
   "outputs": [],
   "source": [
    "from sklearn import datasets"
   ]
  },
  {
   "cell_type": "markdown",
   "metadata": {},
   "source": [
    "用``fetch_``脚本下载的数据，会存储在本地，在你的home主目录的子目录下。\n",
    "\n",
    "可以用如下方法来确定它的位置："
   ]
  },
  {
   "cell_type": "code",
   "execution_count": null,
   "metadata": {
    "collapsed": false,
    "jupyter": {
     "outputs_hidden": false
    }
   },
   "outputs": [],
   "source": [
    "from sklearn.datasets import get_data_home\n",
    "get_data_home()"
   ]
  },
  {
   "cell_type": "markdown",
   "metadata": {},
   "source": [
    "注意:这些数据集，有的非常大，下载可能需要很长时间！\n",
    "\n",
    "如果在IPython notebook里开始下载，想要终止它，可以用ipython的“中断内核(interrupt kernel)”功能，在菜单里就能找到，或者直接用快捷键``Ctrl-m i``。\n",
    "\n",
    "可以按``Ctrl-m h``来查看所有``ipython``键盘快捷键的列表。"
   ]
  },
  {
   "cell_type": "markdown",
   "metadata": {},
   "source": [
    "## 加载数字(Digits)数据"
   ]
  },
  {
   "cell_type": "markdown",
   "metadata": {},
   "source": [
    "来看看另一个数据集，需要稍微多花点心思进行表示的数据集。可以用与之前类似的方式:"
   ]
  },
  {
   "cell_type": "code",
   "execution_count": null,
   "metadata": {
    "collapsed": false,
    "jupyter": {
     "outputs_hidden": false
    }
   },
   "outputs": [],
   "source": [
    "from sklearn.datasets import load_digits\n",
    "digits = load_digits()"
   ]
  },
  {
   "cell_type": "code",
   "execution_count": null,
   "metadata": {
    "collapsed": false,
    "jupyter": {
     "outputs_hidden": false
    }
   },
   "outputs": [],
   "source": [
    "digits.keys()"
   ]
  },
  {
   "cell_type": "code",
   "execution_count": null,
   "metadata": {
    "collapsed": false,
    "jupyter": {
     "outputs_hidden": false
    }
   },
   "outputs": [],
   "source": [
    "n_samples, n_features = digits.data.shape\n",
    "print((n_samples, n_features))"
   ]
  },
  {
   "cell_type": "code",
   "execution_count": null,
   "metadata": {
    "collapsed": false,
    "jupyter": {
     "outputs_hidden": false
    }
   },
   "outputs": [],
   "source": [
    "print(digits.data[0])\n",
    "print(digits.target)"
   ]
  },
  {
   "cell_type": "markdown",
   "metadata": {},
   "source": [
    "这里的目标，只是data所代表的数字，而data是长度为64的数组...表示什么意思呢？"
   ]
  },
  {
   "cell_type": "markdown",
   "metadata": {},
   "source": [
    "实际上，我们有两个版本的数据数组:\n",
    "``data`` 和 ``images``。具体看一看:"
   ]
  },
  {
   "cell_type": "code",
   "execution_count": null,
   "metadata": {
    "collapsed": false,
    "jupyter": {
     "outputs_hidden": false
    }
   },
   "outputs": [],
   "source": [
    "print(digits.data.shape)\n",
    "print(digits.images.shape)"
   ]
  },
  {
   "cell_type": "markdown",
   "metadata": {},
   "source": [
    "可以看到它们通过一个简单的reshape联系在一起:"
   ]
  },
  {
   "cell_type": "code",
   "execution_count": null,
   "metadata": {
    "collapsed": false,
    "jupyter": {
     "outputs_hidden": false
    }
   },
   "outputs": [],
   "source": [
    "import numpy as np\n",
    "print(np.all(digits.images.reshape((1797, 64)) == digits.data))"
   ]
  },
  {
   "cell_type": "markdown",
   "metadata": {},
   "source": [
    "再把数据可视化看看。比之前的简单散点图要复杂一些，但很快就能完成。"
   ]
  },
  {
   "cell_type": "code",
   "execution_count": null,
   "metadata": {
    "collapsed": false,
    "jupyter": {
     "outputs_hidden": false
    }
   },
   "outputs": [],
   "source": [
    "# set up the figure\n",
    "fig = plt.figure(figsize=(6, 6))  # figure size in inches\n",
    "fig.subplots_adjust(left=0, right=1, bottom=0, top=1, hspace=0.05, wspace=0.05)\n",
    "\n",
    "# plot the digits: each image is 8x8 pixels\n",
    "for i in range(64):\n",
    "    ax = fig.add_subplot(8, 8, i + 1, xticks=[], yticks=[])\n",
    "    ax.imshow(digits.images[i], cmap=plt.cm.binary, interpolation='nearest')\n",
    "    \n",
    "    # label the image with the target value\n",
    "    ax.text(0, 7, str(digits.target[i]))"
   ]
  },
  {
   "cell_type": "markdown",
   "metadata": {},
   "source": [
    "现在我们知道这些特征是什么意思了。每个特征代表手写数字的8×8图像中像素的灰度。\n",
    "\n",
    "虽然每个样本数据都是而二维的，数据矩阵会把它压平成为一个**单个矢量**，以便包含在数据矩阵的**一行**里。"
   ]
  },
  {
   "cell_type": "markdown",
   "metadata": {},
   "source": [
    "## 生成数据: S曲线(S-Curve)"
   ]
  },
  {
   "cell_type": "markdown",
   "metadata": {},
   "source": [
    "一个常用作简单非线性数据集示例的数据集是S曲线:"
   ]
  },
  {
   "cell_type": "code",
   "execution_count": null,
   "metadata": {
    "collapsed": false,
    "jupyter": {
     "outputs_hidden": false
    }
   },
   "outputs": [],
   "source": [
    "from sklearn.datasets import make_s_curve\n",
    "data, colors = make_s_curve(n_samples=1000)\n",
    "print(data.shape)\n",
    "print(colors.shape)"
   ]
  },
  {
   "cell_type": "code",
   "execution_count": null,
   "metadata": {
    "collapsed": false,
    "jupyter": {
     "outputs_hidden": false
    }
   },
   "outputs": [],
   "source": [
    "from mpl_toolkits.mplot3d import Axes3D\n",
    "ax = plt.axes(projection='3d')\n",
    "ax.scatter(data[:, 0], data[:, 1], data[:, 2], c=colors)\n",
    "ax.view_init(10, -60)"
   ]
  },
  {
   "cell_type": "markdown",
   "metadata": {},
   "source": [
    "这个例子通常与一种称为局部线性嵌入(LocallyLinear Embedding)的无监督学习方法一起使用。本教程后面会详细介绍无监督学习。"
   ]
  },
  {
   "cell_type": "markdown",
   "metadata": {},
   "source": [
    "## 练习: 试试faces数据集"
   ]
  },
  {
   "cell_type": "markdown",
   "metadata": {},
   "source": [
    "花点时间，自己探索一下数据集。\n",
    "花一点时间获取数据(大约1.4MB)，并对人脸可视化。\n",
    "可以复制以上用于可视化手写数字的代码，并针对此数据进行修改。"
   ]
  },
  {
   "cell_type": "code",
   "execution_count": null,
   "metadata": {
    "collapsed": false,
    "jupyter": {
     "outputs_hidden": false
    }
   },
   "outputs": [],
   "source": [
    "from sklearn.datasets import fetch_olivetti_faces"
   ]
  },
  {
   "cell_type": "code",
   "execution_count": null,
   "metadata": {
    "collapsed": false,
    "jupyter": {
     "outputs_hidden": false
    }
   },
   "outputs": [],
   "source": [
    "# fetch the faces data\n"
   ]
  },
  {
   "cell_type": "code",
   "execution_count": null,
   "metadata": {
    "collapsed": false,
    "jupyter": {
     "outputs_hidden": false
    }
   },
   "outputs": [],
   "source": [
    "# Use a script like above to plot the faces image data.\n",
    "# hint: plt.cm.bone is a good colormap for this data\n"
   ]
  },
  {
   "cell_type": "markdown",
   "metadata": {},
   "source": [
    "### Solution:"
   ]
  },
  {
   "cell_type": "code",
   "execution_count": null,
   "metadata": {
    "collapsed": false,
    "jupyter": {
     "outputs_hidden": false
    }
   },
   "outputs": [],
   "source": [
    "# %load solutions/03A_faces_plot.py"
   ]
  }
 ],
 "metadata": {
  "anaconda-cloud": {},
  "kernelspec": {
   "display_name": "Python 3",
   "language": "python",
   "name": "python3"
  },
  "language_info": {
   "codemirror_mode": {
    "name": "ipython",
    "version": 3
   },
   "file_extension": ".py",
   "mimetype": "text/x-python",
   "name": "python",
   "nbconvert_exporter": "python",
   "pygments_lexer": "ipython3",
   "version": "3.9.5"
  }
 },
 "nbformat": 4,
 "nbformat_minor": 4
}
