{
 "cells": [
  {
   "cell_type": "code",
   "execution_count": null,
   "metadata": {
    "collapsed": false,
    "jupyter": {
     "outputs_hidden": false
    }
   },
   "outputs": [],
   "source": [
    "%load_ext watermark\n",
    "%watermark  -d -u -a 'Andreas Mueller, Kyle Kastner, Sebastian Raschka'"
   ]
  },
  {
   "cell_type": "markdown",
   "metadata": {},
   "source": [
    "# Scikit-learn估计器接口总结"
   ]
  },
  {
   "cell_type": "markdown",
   "metadata": {},
   "source": [
    "Scikit-learn努力在所有方法中设计统一的接口。对于scikit-learn的*估计器(estimator)*对象`model`, 有以下方法可用(并非对所有模型):\n",
    "\n",
    "- 对**所有估计器**可用\n",
    "  + `model.fit()` : 拟合训练数据。对于监督学习应用程序，接收两个参数: 数据`X`和标签`y` (e.g. `model.fit(X, y)`). 对于无监督学习应用, `fit` 接收一个参数, 即数据`X` (e.g. `model.fit(X)`).\n",
    "- 对**有监督估计器**可用\n",
    "  + `model.predict()` : 给定一个训练好的模型，预测一组新数据的标签。此方法接收一个参数，即新数据`X_new` (e.g. `model.predict(X_new)`), 并返回数组中每个对象的学到的标签.\n",
    "  + `model.predict_proba()` : 对于分类问题，一些估计器还提供了这个方法，返回新的观察具有每个分类标签的概率。在这种情况下，`model.predict()`返回概率最高的标签.\n",
    "  + `model.decision_function()` : 对于分类问题，一些估计器提供了一个非概率的不确定性估计。对于二进制分类，决策函数>= 0表示将预测正类，而<0表示负类.\n",
    "  + `model.score()` : 对于分类或回归问题，大多数(所有？)估计器实现了score方法。分数介于0和1之间，分数越大表示越合适。对于分类器，“得分”方法计算预测精度。对于回归器，“分数”计算预测的决定系数(R<sup>2</sup>)。\n",
    "  + `model.transform()` : 对于特征选择算法，这会把数据集缩减为选定的特征。对于一些分类和回归模型，例如一些线性模型和随机森林，该方法将数据集简化为信息量最大的特征。因此，这些分类和回归模型也可以用作特征选择方法。\n",
    "  \n",
    "- 对**无监督估计器**可用\n",
    "  + `model.transform()` : 给定一个无监督的模型，将新数据变换到新的基。接收一个参数`X_new`，并返回基于无监督模型的数据的新表示。\n",
    "  + `model.fit_transform()` : 一些估计器实现了此方法，更有效地对输入数据同时执行拟合和变换。\n",
    "  + `model.predict()` : 对于聚类算法，predict方法将为新的数据点产生聚类标签。不是所有的聚类方法都有这个函数。\n",
    "  + `model.predict_proba()` : 高斯混合模型(GMMs)为每个点提供了由给定混合成分生成的概率。\n",
    "  + `model.score()` : 像KDE和高斯混合模型这样的密度模型提供了模型下数据的可能性。"
   ]
  },
  {
   "cell_type": "markdown",
   "metadata": {},
   "source": [
    "除了``fit``, 另外两个最重要的函数可以说是用来生成目标变量(a ``y``)的 ``predict`` 和 用来生成数据新表示形式(an ``X``)的 ``transform``. 下表显示了这两个函数适用于哪一类模型:\n",
    "\n"
   ]
  },
  {
   "cell_type": "markdown",
   "metadata": {},
   "source": [
    "<table>\n",
    "<tr style=\"border:None; font-size:20px; padding:10px;\"><th>``model.predict``</th><th>``model.transform``</th></tr>\n",
    "<tr style=\"border:None; font-size:20px; padding:10px;\"><td>Classification</td><td>Preprocessing</td></tr>\n",
    "<tr style=\"border:None; font-size:20px; padding:10px;\"><td>Regression</td><td>Dimensionality Reduction</td></tr>\n",
    "<tr style=\"border:None; font-size:20px; padding:10px;\"><td>Clustering</td><td>Feature Extraction</td></tr>\n",
    "<tr style=\"border:None; font-size:20px; padding:10px;\"><td>&nbsp;</td><td>Feature Selection</td></tr>\n",
    "\n",
    "</table>\n",
    "\n",
    "\n"
   ]
  }
 ],
 "metadata": {
  "anaconda-cloud": {},
  "kernelspec": {
   "display_name": "Python 3",
   "language": "python",
   "name": "python3"
  },
  "language_info": {
   "codemirror_mode": {
    "name": "ipython",
    "version": 3
   },
   "file_extension": ".py",
   "mimetype": "text/x-python",
   "name": "python",
   "nbconvert_exporter": "python",
   "pygments_lexer": "ipython3",
   "version": "3.9.5"
  }
 },
 "nbformat": 4,
 "nbformat_minor": 4
}
